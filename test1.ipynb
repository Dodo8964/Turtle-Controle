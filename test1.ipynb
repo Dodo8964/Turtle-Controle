{
 "cells": [
  {
   "cell_type": "code",
   "execution_count": 14,
   "metadata": {},
   "outputs": [],
   "source": [
    "import tensorflow as tf\n",
    "import numpy as np\n",
    "\n",
    "# Load the model\n",
    "model_path = 'my_model.keras'  # Use the extension you saved the model with\n",
    "loaded_model = tf.keras.models.load_model(model_path)\n",
    "\n",
    "label_names = np.array(['down', 'go', 'left', 'no', 'right', 'stop', 'up', 'yes'])\n"
   ]
  },
  {
   "cell_type": "code",
   "execution_count": 21,
   "metadata": {},
   "outputs": [],
   "source": [
    "\n",
    "# Preprocess audio\n",
    "def load_audio_file(file_path):\n",
    "    audio_binary = tf.io.read_file(file_path)\n",
    "    audio, _ = tf.audio.decode_wav(audio_binary)\n",
    "    return tf.squeeze(audio, axis=-1)\n",
    "\n",
    "def get_spectrogram(waveform):\n",
    "    spectrogram = tf.signal.stft(\n",
    "        waveform, frame_length=255, frame_step=128)\n",
    "    spectrogram = tf.abs(spectrogram)\n",
    "    spectrogram = spectrogram[..., tf.newaxis]\n",
    "    return spectrogram\n",
    "\n",
    "def preprocess_audio(audio):\n",
    "    spectrogram = get_spectrogram(audio)\n",
    "    return spectrogram\n"
   ]
  },
  {
   "cell_type": "code",
   "execution_count": 22,
   "metadata": {},
   "outputs": [],
   "source": [
    "# Functions to make and interpret predictions\n",
    "def predict(model, audio):\n",
    "    spectrogram = preprocess_audio(audio)\n",
    "    spectrogram = tf.expand_dims(spectrogram, 0)  # Add batch dimension\n",
    "    prediction = model(spectrogram)\n",
    "    predicted_label = tf.argmax(prediction, axis=-1)\n",
    "    return predicted_label.numpy()[0]\n",
    "\n",
    "def decode_prediction(predicted_label, label_names):\n",
    "    return label_names[predicted_label]\n"
   ]
  },
  {
   "cell_type": "code",
   "execution_count": 17,
   "metadata": {},
   "outputs": [],
   "source": []
  },
  {
   "cell_type": "code",
   "execution_count": 48,
   "metadata": {},
   "outputs": [
    {
     "name": "stdout",
     "output_type": "stream",
     "text": [
      "Recording...\n",
      "Recording finished.\n",
      "Predicted command: right\n"
     ]
    }
   ],
   "source": [
    "# Record audio and make predictions\n",
    "import sounddevice as sd\n",
    "import scipy.io.wavfile as wav\n",
    "\n",
    "def record_audio(duration=1, fs=16000):\n",
    "    print(\"Recording...\")\n",
    "    audio = sd.rec(int(duration * fs), samplerate=fs, channels=1, dtype='float32')\n",
    "    sd.wait()  # Wait until the recording is finished\n",
    "    print(\"Recording finished.\")\n",
    "    audio = np.squeeze(audio, axis=-1)\n",
    "    return audio\n",
    "\n",
    "audio = record_audio(duration=1, fs=16000)  # Record 1 second of audio\n",
    "predicted_label = predict(loaded_model, audio)\n",
    "predicted_command = decode_prediction(predicted_label, label_names)\n",
    "print(f\"Predicted command: {predicted_command}\")"
   ]
  }
 ],
 "metadata": {
  "kernelspec": {
   "display_name": "Python 3",
   "language": "python",
   "name": "python3"
  },
  "language_info": {
   "codemirror_mode": {
    "name": "ipython",
    "version": 3
   },
   "file_extension": ".py",
   "mimetype": "text/x-python",
   "name": "python",
   "nbconvert_exporter": "python",
   "pygments_lexer": "ipython3",
   "version": "3.12.4"
  }
 },
 "nbformat": 4,
 "nbformat_minor": 2
}
