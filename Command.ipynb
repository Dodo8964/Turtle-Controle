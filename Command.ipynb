{
 "cells": [
  {
   "cell_type": "code",
   "execution_count": 1,
   "metadata": {},
   "outputs": [],
   "source": [
    "import turtle\n",
    "\n",
    "# Create the screen and turtle\n",
    "screen = turtle.Screen()\n",
    "screen.title(\"Turtle Command Interface\")\n",
    "t = turtle.Turtle()\n",
    "\n",
    "def move_turtle(command):\n",
    "    if command == 'left':\n",
    "        t.left(90)\n",
    "    elif command == 'right':\n",
    "        t.right(90)\n",
    "    elif command == 'up':\n",
    "        t.forward(100)\n",
    "    elif command == 'down':\n",
    "        t.backward(100)\n",
    "    elif command == 'stop':\n",
    "        t.penup()\n",
    "    elif command == 'no':\n",
    "        t.write(\"No command\", align=\"center\")\n",
    "    elif command == 'go':\n",
    "        t.write(\"Go command\", align=\"center\")\n",
    "    elif command == 'yes':\n",
    "        t.write(\"Yes command\", align=\"center\")\n"
   ]
  },
  {
   "cell_type": "code",
   "execution_count": null,
   "metadata": {},
   "outputs": [],
   "source": [
    "import tensorflow as tf\n",
    "import numpy as np\n",
    "from tensorflow.keras import models\n",
    "\n",
    "# Load the model\n",
    "loaded_model = models.load_model(\"saved\")\n",
    "\n",
    "commands = ['left', 'down', 'stop', 'up', 'right', 'no', 'go', 'yes']\n",
    "\n",
    "def preprocess_audiobuffer(audio):\n",
    "    # Implement your audio preprocessing here\n",
    "    return get_spectrogram(audio)\n",
    "\n",
    "def predict_mic():\n",
    "    # Record audio (you might need to use an actual recording function here)\n",
    "    audio = record_audio()  # Implement or replace this\n",
    "    spec = preprocess_audiobuffer(audio)\n",
    "    prediction = loaded_model(spec)\n",
    "    label_pred = np.argmax(prediction, axis=1)\n",
    "    command = commands[label_pred[0]]\n",
    "    print(\"Predicted label:\", command)\n",
    "    return command\n"
   ]
  },
  {
   "cell_type": "code",
   "execution_count": null,
   "metadata": {},
   "outputs": [],
   "source": [
    "import time\n",
    "\n",
    "def main_loop():\n",
    "    while True:\n",
    "        command = predict_mic()  # Get the command from the model\n",
    "        move_turtle(command)     # Move the turtle based on the command\n",
    "\n",
    "        if command == \"stop\":\n",
    "            break\n",
    "\n",
    "        time.sleep(1)  # Wait for a second before the next command\n",
    "\n",
    "if __name__ == \"__main__\":\n",
    "    main_loop()\n",
    "    turtle.done()\n"
   ]
  }
 ],
 "metadata": {
  "kernelspec": {
   "display_name": "Python 3",
   "language": "python",
   "name": "python3"
  },
  "language_info": {
   "codemirror_mode": {
    "name": "ipython",
    "version": 3
   },
   "file_extension": ".py",
   "mimetype": "text/x-python",
   "name": "python",
   "nbconvert_exporter": "python",
   "pygments_lexer": "ipython3",
   "version": "3.12.4"
  }
 },
 "nbformat": 4,
 "nbformat_minor": 2
}
